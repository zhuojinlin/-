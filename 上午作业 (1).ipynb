{
 "cells": [
  {
   "cell_type": "code",
   "execution_count": 1,
   "id": "0edc5dda",
   "metadata": {},
   "outputs": [],
   "source": [
    "import numpy as np\n",
    "import matplotlib.pyplot as plt"
   ]
  },
  {
   "cell_type": "code",
   "execution_count": 2,
   "id": "c3ecf5a3",
   "metadata": {},
   "outputs": [],
   "source": [
    "# 定义目标函数\n",
    "def func(x):\n",
    "    return x ** 4 - 4 * x ** 3 + 2 * x ** 2 + 3 * x + 1\n",
    "\n",
    "# 定义目标函数的导数\n",
    "def derivative(x):\n",
    "    return 4 * x ** 3 - 12 * x ** 2 + 4 * x + 3"
   ]
  },
  {
   "cell_type": "code",
   "execution_count": 3,
   "id": "1e89dc5f",
   "metadata": {},
   "outputs": [],
   "source": [
    "def gradient_descent(learning_rate, num_iterations):\n",
    "    x = np.random.rand()  # 随机初始化自变量x\n",
    "    x_history = [x]\n",
    "    for _ in range(num_iterations):\n",
    "        grad = derivative(x)\n",
    "        x -= learning_rate * grad\n",
    "        x_history.append(x)\n",
    "    return x, func(x), x_history"
   ]
  },
  {
   "cell_type": "code",
   "execution_count": 4,
   "id": "276b77d7",
   "metadata": {},
   "outputs": [
    {
     "name": "stdout",
     "output_type": "stream",
     "text": [
      "近似全局最小值点: x = -0.34699740852777383, y = 0.3814440192347526\n"
     ]
    }
   ],
   "source": [
    "learning_rate = 0.01\n",
    "num_iterations = 1000\n",
    "min_x, min_y, x_history = gradient_descent(learning_rate, num_iterations)\n",
    "print(f\"近似全局最小值点: x = {min_x}, y = {min_y}\")"
   ]
  },
  {
   "cell_type": "code",
   "execution_count": 5,
   "id": "5b09f37c",
   "metadata": {},
   "outputs": [
    {
     "data": {
      "image/png": "[encoded data removed]",
      "text/plain": [
       "<Figure size 432x288 with 1 Axes>"
      ]
     },
     "metadata": {
      "needs_background": "light"
     },
     "output_type": "display_data"
    }
   ],
   "source": [
    "# 生成用于绘制函数图像的x值\n",
    "x_plot = np.linspace(-1, 4, 400)\n",
    "y_plot = func(x_plot)\n",
    "\n",
    "# 绘制函数图像\n",
    "plt.plot(x_plot, y_plot, label='Function')\n",
    "\n",
    "# 绘制梯度下降迭代过程\n",
    "x_history = np.array(x_history)\n",
    "y_history = func(x_history)\n",
    "plt.scatter(x_history, y_history, c='r', label='Gradient Descent Iterations')\n",
    "\n",
    "plt.xlabel('x')\n",
    "plt.ylabel('y')\n",
    "plt.title('Gradient Descent for Function with Two Minima')\n",
    "plt.legend()\n",
    "plt.show()"
   ]
  },
  {
   "cell_type": "code",
   "execution_count": null,
   "id": "ebb29f99",
   "metadata": {},
   "outputs": [],
   "source": []
  }
 ],
 "metadata": {
  "kernelspec": {
   "display_name": "Python 3 (ipykernel)",
   "language": "python",
   "name": "python3"
  },
  "language_info": {
   "codemirror_mode": {
    "name": "ipython",
    "version": 3
   },
   "file_extension": ".py",
   "mimetype": "text/x-python",
   "name": "python",
   "nbconvert_exporter": "python",
   "pygments_lexer": "ipython3",
   "version": "3.9.7"
  }
 },
 "nbformat": 4,
 "nbformat_minor": 5
}
