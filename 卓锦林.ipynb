{
 "cells": [
  {
   "cell_type": "code",
   "execution_count": 2,
   "id": "8bbc478d-191e-42c3-893c-a2cb714c4180",
   "metadata": {},
   "outputs": [
    {
     "name": "stdout",
     "output_type": "stream",
     "text": [
      "Sigmoid函数在x=0处的值为: 0.5\n",
      "Sigmoid函数在x=0处的导数为: 0.25\n"
     ]
    }
   ],
   "source": [
    "import torch\n",
    "\n",
    "# 自定义实现Sigmoid函数\n",
    "def sigmoid(x):\n",
    "    return 1 / (1 + torch.exp(-x))\n",
    "\n",
    "# 定义输入张量x，设置requires_grad=True以便计算导数\n",
    "x = torch.tensor(0., requires_grad=True)\n",
    "\n",
    "# 计算Sigmoid函数在x处的值\n",
    "y = sigmoid(x)\n",
    "\n",
    "# 计算Sigmoid函数在x处的导数\n",
    "y.backward()\n",
    "\n",
    "# 输出Sigmoid函数在x=0处的值和导数\n",
    "print(\"Sigmoid函数在x=0处的值为:\", y.item())\n",
    "print(\"Sigmoid函数在x=0处的导数为:\", x.grad.item())"
   ]
  },
  {
   "cell_type": "code",
   "execution_count": 4,
   "id": "5a611a57-952b-41d5-a225-38aa2099f6bb",
   "metadata": {},
   "outputs": [],
   "source": [
    "x1 = torch.tensor(2., requires_grad=True)\n",
    "x2 = torch.tensor(5., requires_grad=True)"
   ]
  },
  {
   "cell_type": "code",
   "execution_count": 5,
   "id": "bb104c16-8ef7-4f13-ada2-dd26d3dc7b93",
   "metadata": {},
   "outputs": [],
   "source": [
    "v1 = x1\n",
    "v2 = x2\n",
    "v3 = v1**2 + 2*v2 +1\n",
    "v4 = sigmoid(v3)\n",
    "v5 = 3*v4\n",
    "v6 = v5 + v4 +1\n",
    "node_dict = {\"v1\": v1, \"v2\": v2, \"v3\": v3,'v4':v4,'v5':v5,'v6':v6}\n",
    "var_dict = {\"x1\": x1, \"x2\": x2}"
   ]
  },
  {
   "cell_type": "code",
   "execution_count": 7,
   "id": "c805b2be-a537-49d9-b34d-2712e5efc8e0",
   "metadata": {},
   "outputs": [
    {
     "name": "stdout",
     "output_type": "stream",
     "text": [
      "节点v6对x2导数:  tensor(0.)\n"
     ]
    }
   ],
   "source": [
    "for node_name in node_dict:\n",
    "    for var_name in var_dict:\n",
    "        node = node_dict[node_name]\n",
    "        var = var_dict[var_name]\n",
    "\n",
    "    if var.grad is not None:\n",
    "        var.grad.zero_()\n",
    "    else:\n",
    "        var.grad = torch.tensor(0.0)\n",
    "        node.backward(retain_graph=True)\n",
    "print(f\"节点{node_name}对{var_name}导数: \", var.grad)"
   ]
  },
  {
   "cell_type": "code",
   "execution_count": null,
   "id": "5a83b1c3-4097-434b-bac3-52a96ce80f13",
   "metadata": {},
   "outputs": [],
   "source": []
  },
  {
   "cell_type": "code",
   "execution_count": null,
   "id": "f00735d3-75a5-49c8-bf06-5a3a39d9ef56",
   "metadata": {},
   "outputs": [],
   "source": []
  },
  {
   "cell_type": "code",
   "execution_count": null,
   "id": "c90ab3d0-ce7a-4860-835d-501580e0f5e0",
   "metadata": {},
   "outputs": [],
   "source": []
  }
 ],
 "metadata": {
  "kernelspec": {
   "display_name": "Python 3 (ipykernel)",
   "language": "python",
   "name": "python3"
  },
  "language_info": {
   "codemirror_mode": {
    "name": "ipython",
    "version": 3
   },
   "file_extension": ".py",
   "mimetype": "text/x-python",
   "name": "python",
   "nbconvert_exporter": "python",
   "pygments_lexer": "ipython3",
   "version": "3.9.7"
  }
 },
 "nbformat": 4,
 "nbformat_minor": 5
}
