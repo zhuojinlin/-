{
 "cells": [
  {
   "cell_type": "code",
   "execution_count": 1,
   "id": "8bbc478d-191e-42c3-893c-a2cb714c4180",
   "metadata": {},
   "outputs": [
    {
     "name": "stdout",
     "output_type": "stream",
     "text": [
      "函数f(x1, x2)的值为: tensor(11.6521, grad_fn=<SubBackward0>)\n",
      "关于x1的偏导数: tensor(5.5000)\n",
      "关于x2的偏导数: tensor(1.7163)\n"
     ]
    }
   ],
   "source": [
    "import torch\n",
    "\n",
    "# 定义自变量x1和x2，这里假设为具体的值，可根据需要修改\n",
    "x1 = torch.tensor(2., requires_grad=True)\n",
    "x2 = torch.tensor(5., requires_grad=True)\n",
    "\n",
    "# 计算函数f(x1, x2)的值\n",
    "f_value = torch.log(x1) + x1 * x2 - torch.sin(x2)\n",
    "\n",
    "# 可以查看函数值\n",
    "print(\"函数f(x1, x2)的值为:\", f_value)\n",
    "\n",
    "# 如果需要求关于x1和x2的偏导数\n",
    "f_value.backward()\n",
    "\n",
    "# 查看x1的偏导数\n",
    "print(\"关于x1的偏导数:\", x1.grad)\n",
    "\n",
    "# 查看x2的偏导数\n",
    "print(\"关于x2的偏导数:\", x2.grad)"
   ]
  },
  {
   "cell_type": "code",
   "execution_count": 2,
   "id": "5a611a57-952b-41d5-a225-38aa2099f6bb",
   "metadata": {},
   "outputs": [],
   "source": [
    "def sin(x):\n",
    "    return torch.sin(x)"
   ]
  },
  {
   "cell_type": "code",
   "execution_count": 3,
   "id": "bb104c16-8ef7-4f13-ada2-dd26d3dc7b93",
   "metadata": {},
   "outputs": [],
   "source": [
    "v_1 = x1\n",
    "v0 = x2\n",
    "v1 = torch.log(x1)\n",
    "v2 = v_1 * v0\n",
    "v3 = sin(v0)\n",
    "v4 = v1 + v2\n",
    "v5 = v4 -v3"
   ]
  },
  {
   "cell_type": "code",
   "execution_count": 4,
   "id": "c805b2be-a537-49d9-b34d-2712e5efc8e0",
   "metadata": {},
   "outputs": [],
   "source": [
    "if x1.grad is not None:\n",
    "    x1.grad.zero_()\n",
    "if x2.grad is not None:\n",
    "    x2.grad.zero_()\n",
    "v0.backward(retain_graph=True)"
   ]
  },
  {
   "cell_type": "code",
   "execution_count": null,
   "id": "5a83b1c3-4097-434b-bac3-52a96ce80f13",
   "metadata": {},
   "outputs": [],
   "source": []
  },
  {
   "cell_type": "code",
   "execution_count": null,
   "id": "f00735d3-75a5-49c8-bf06-5a3a39d9ef56",
   "metadata": {},
   "outputs": [],
   "source": []
  },
  {
   "cell_type": "code",
   "execution_count": null,
   "id": "c90ab3d0-ce7a-4860-835d-501580e0f5e0",
   "metadata": {},
   "outputs": [],
   "source": []
  }
 ],
 "metadata": {
  "kernelspec": {
   "display_name": "Python 3 (ipykernel)",
   "language": "python",
   "name": "python3"
  },
  "language_info": {
   "codemirror_mode": {
    "name": "ipython",
    "version": 3
   },
   "file_extension": ".py",
   "mimetype": "text/x-python",
   "name": "python",
   "nbconvert_exporter": "python",
   "pygments_lexer": "ipython3",
   "version": "3.9.7"
  }
 },
 "nbformat": 4,
 "nbformat_minor": 5
}
